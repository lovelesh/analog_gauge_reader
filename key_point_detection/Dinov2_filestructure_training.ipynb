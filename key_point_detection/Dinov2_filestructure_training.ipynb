{
 "cells": [
  {
   "cell_type": "markdown",
   "metadata": {},
   "source": [
    "# Preparing dataset for Dinov2 (Key Point Detection)\n",
    "\n",
    "Dinov2 requires the following format: train, val and test folders. These folders need to be further divided into images and labels as shown below:\n",
    "```text\n",
    "--training_data\n",
    "    --train\n",
    "        --images\n",
    "        --labels\n",
    "    --val\n",
    "        --images\n",
    "        --labels\n",
    "```\n",
    "For each image in the images folder there is needs to be a .npy numpy file with the same name in the corresponding labels folder.\n",
    "\n",
    "Chanse the source image directory accordingly."
   ]
  },
  {
   "cell_type": "code",
   "execution_count": null,
   "metadata": {},
   "outputs": [],
   "source": [
    "# Get all file names for detection\n",
    "\n",
    "import os\n",
    "\n",
    "print(os.getcwd())\n",
    "\n",
    "# Detection file directories\n",
    "image_directory = 'data/images_cropped_new'\n",
    "# image_directory = 'data/images_cropped_new/images'\n",
    "# label_directory = 'data/images_cropped_new/labels'\n",
    "\n",
    "# get all detection image file names\n",
    "filenames = []\n",
    "for filename in os.listdir(image_directory + '/images'):\n",
    "    filenames.append(filename[:-4]) # last 4 characters are '.jpg'\n",
    "\n",
    "# print(filenames)"
   ]
  },
  {
   "cell_type": "code",
   "execution_count": 10,
   "metadata": {},
   "outputs": [
    {
     "name": "stdout",
     "output_type": "stream",
     "text": [
      "Number of files in train set: 1649\n",
      "Number of files in validation set: 206\n",
      "Number of files in test set: 207\n"
     ]
    }
   ],
   "source": [
    "# split images into train, val and test set\n",
    "\n",
    "import random\n",
    "\n",
    "def split_dataset(filenames):\n",
    "    # Assuming you have a list of filenames called \"all_filenames\"\n",
    "    random.shuffle(filenames)\n",
    "\n",
    "    # Calculate the size of each set\n",
    "    num_files = len(filenames)\n",
    "    num_train = int(0.8 * num_files)  # 80% for training\n",
    "    num_val = int(0.1 * num_files)   # 10% for validation\n",
    "    num_test = num_files - num_train - num_val  # remaining 10% for test\n",
    "\n",
    "    # Split the list into three sets\n",
    "    train_filenames = filenames[:num_train]\n",
    "    val_filenames = filenames[num_train:num_train+num_val]\n",
    "    test_filenames = filenames[num_train+num_val:]\n",
    "\n",
    "    # Print the sizes of each set\n",
    "    print(f\"Number of files in train set: {len(train_filenames)}\")\n",
    "    print(f\"Number of files in validation set: {len(val_filenames)}\")\n",
    "    print(f\"Number of files in test set: {len(test_filenames)}\")\n",
    "    \n",
    "    return train_filenames, val_filenames, test_filenames\n",
    "\n",
    "train_filenames, val_filenames, test_filenames = split_dataset(filenames)"
   ]
  },
  {
   "cell_type": "code",
   "execution_count": 11,
   "metadata": {},
   "outputs": [],
   "source": [
    "# Create folder structure\n",
    "import os\n",
    "dir_base = ['key_point_detection']\n",
    "modes = ['train', 'val', 'test']\n",
    "for base in dir_base:\n",
    "    for mode in modes:\n",
    "        path = 'data/' + base + '/' + mode +'/images'\n",
    "        os.makedirs(path, exist_ok=True)\n",
    "        path = 'data/' + base + '/' + mode +'/labels'\n",
    "        os.makedirs(path, exist_ok=True)"
   ]
  },
  {
   "cell_type": "code",
   "execution_count": 12,
   "metadata": {},
   "outputs": [],
   "source": [
    "import shutil\n",
    "\n",
    "#copy image and label file of given file name to their corresponding folders in new folderstructure\n",
    "def copy_pair(src_dir, target_dir, file_name, mode):\n",
    "    src = src_dir + '/images/' + file_name + \".jpg\"\n",
    "    dst = target_dir + '/' + mode +'/images/' + file_name + \".jpg\"\n",
    "    shutil.copy2(src, dst)\n",
    "    src = src_dir + '/labels/' + file_name + \".npy\"\n",
    "    dst = target_dir + '/' + mode +'/labels/' + file_name + \".npy\"\n",
    "    shutil.copy2(src, dst)\n",
    "\n",
    "#for each set copy all labels and images of this set to corresponding \n",
    "def copy_split(src_dir, target_dir):\n",
    "    for name in train_filenames:\n",
    "        copy_pair(src_dir, target_dir, name, 'train')\n",
    "    for name in val_filenames:\n",
    "        copy_pair(src_dir, target_dir, name, 'val')\n",
    "    for name in test_filenames:\n",
    "        copy_pair(src_dir, target_dir, name, 'test')\n",
    "\n",
    "# split detection filenames\n",
    "copy_split(image_directory, 'data/' + dir_base[0])"
   ]
  }
 ],
 "metadata": {
  "kernelspec": {
   "display_name": "gauge_eth",
   "language": "python",
   "name": "python3"
  },
  "language_info": {
   "codemirror_mode": {
    "name": "ipython",
    "version": 3
   },
   "file_extension": ".py",
   "mimetype": "text/x-python",
   "name": "python",
   "nbconvert_exporter": "python",
   "pygments_lexer": "ipython3",
   "version": "3.8.19"
  }
 },
 "nbformat": 4,
 "nbformat_minor": 2
}
