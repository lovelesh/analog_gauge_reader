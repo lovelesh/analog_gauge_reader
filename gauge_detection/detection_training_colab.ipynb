{
  "cells": [
    {
      "cell_type": "markdown",
      "metadata": {
        "id": "Urt59paA7mWe"
      },
      "source": [
        "# Setup and Installation"
      ]
    },
    {
      "cell_type": "code",
      "execution_count": null,
      "metadata": {
        "id": "-8rxVjQcO5O_"
      },
      "outputs": [],
      "source": [
        "!nvidia-smi"
      ]
    },
    {
      "cell_type": "code",
      "execution_count": null,
      "metadata": {
        "id": "eDFN0mi8PVvA"
      },
      "outputs": [],
      "source": [
        "# Install ultralytics, yolov8\n",
        "!pip install ultralytics\n",
        "from IPython import display\n",
        "display.clear_output()\n",
        "\n",
        "import ultralytics\n",
        "ultralytics.checks()"
      ]
    },
    {
      "cell_type": "code",
      "execution_count": null,
      "metadata": {
        "id": "THPbr6iF6pzt"
      },
      "outputs": [],
      "source": [
        "from ultralytics import YOLO\n",
        "\n",
        "from IPython.display import display, Image"
      ]
    },
    {
      "cell_type": "code",
      "execution_count": null,
      "metadata": {
        "id": "PwGGa3z8Pc0q"
      },
      "outputs": [],
      "source": [
        "# Mount google drive for access to data\n",
        "from google.colab import drive\n",
        "drive.mount('/content/drive')"
      ]
    },
    {
      "cell_type": "markdown",
      "metadata": {
        "id": "Nse_iHNb7S51"
      },
      "source": [
        "# Detection"
      ]
    },
    {
      "cell_type": "code",
      "execution_count": null,
      "metadata": {
        "id": "bb0Kabl6nmwA"
      },
      "outputs": [],
      "source": [
        "model_det = YOLO(\"yolov8n.pt\")"
      ]
    },
    {
      "cell_type": "code",
      "execution_count": null,
      "metadata": {
        "id": "h4wT7MIcoUnx"
      },
      "outputs": [],
      "source": [
        "# change path to drive folder with detection data\n",
        "%cd /content/drive/MyDrive/Analogue Gauge Reading/data_splits/detection"
      ]
    },
    {
      "cell_type": "code",
      "execution_count": null,
      "metadata": {
        "id": "cNYQPs6odjxv"
      },
      "outputs": [],
      "source": [
        "# train model\n",
        "model_det.train(task='detect', data='data.yaml', plots=True, epochs=5, conf=0.4)"
      ]
    },
    {
      "cell_type": "code",
      "execution_count": null,
      "metadata": {
        "id": "gwN-SLIEdkEM"
      },
      "outputs": [],
      "source": [
        "#validate model\n",
        "metrics = model_det.val()\n",
        "metrics"
      ]
    },
    {
      "cell_type": "code",
      "execution_count": null,
      "metadata": {
        "id": "I930uU_ufWdO"
      },
      "outputs": [],
      "source": [
        "# Export the model\n",
        "model_det.export(format=\"onnx\")"
      ]
    },
    {
      "cell_type": "code",
      "execution_count": null,
      "metadata": {
        "id": "7oFjBy6zpSbX"
      },
      "outputs": [],
      "source": [
        "!ls runs/detect/train/"
      ]
    },
    {
      "cell_type": "code",
      "execution_count": null,
      "metadata": {
        "id": "FmQSnYsc-p6I"
      },
      "outputs": [],
      "source": [
        "Image(filename='runs/detect/train/confusion_matrix.png', width=600)"
      ]
    },
    {
      "cell_type": "code",
      "execution_count": null,
      "metadata": {
        "id": "_OqDgQak-tD6"
      },
      "outputs": [],
      "source": [
        "Image(filename='runs/detect/train/results.png', width=600)\n"
      ]
    },
    {
      "cell_type": "code",
      "execution_count": null,
      "metadata": {
        "id": "8sSztSwO-4OE"
      },
      "outputs": [],
      "source": [
        "Image(filename='runs/detect/train/val_batch0_pred.jpg', width=600)"
      ]
    },
    {
      "cell_type": "code",
      "execution_count": null,
      "metadata": {
        "id": "BZjcODEt_Ifb"
      },
      "outputs": [],
      "source": [
        "#inference\n",
        "!yolo task=detect mode=predict model=runs/detect/train/weights/best.pt conf=0.25 source=test/images"
      ]
    },
    {
      "cell_type": "markdown",
      "metadata": {
        "id": "ULenhEAc7Y-g"
      },
      "source": [
        "# Segmentation"
      ]
    },
    {
      "cell_type": "code",
      "execution_count": null,
      "metadata": {
        "id": "uq2qkkUM-qSt"
      },
      "outputs": [],
      "source": [
        "%cd /content/drive/MyDrive/Analogue Gauge Reading/data_splits/segmentation"
      ]
    },
    {
      "cell_type": "code",
      "execution_count": null,
      "metadata": {
        "id": "-a7V49Jq-qVd"
      },
      "outputs": [],
      "source": [
        "!yolo task=segment mode=train model=yolov8n-seg.pt data= data.yaml epochs=5 plots=True"
      ]
    },
    {
      "cell_type": "code",
      "execution_count": null,
      "metadata": {
        "id": "zKzdi5Pz-qYy"
      },
      "outputs": [],
      "source": [
        "Image(filename='runs/segment/train/results.png', width=600)\n"
      ]
    },
    {
      "cell_type": "code",
      "execution_count": null,
      "metadata": {
        "id": "XdsTnKIjDYN3"
      },
      "outputs": [],
      "source": [
        "Image(filename='runs/segment/train/val_batch0_pred.jpg', width=600) "
      ]
    },
    {
      "cell_type": "code",
      "execution_count": null,
      "metadata": {
        "id": "NT7FadD7OELu"
      },
      "outputs": [],
      "source": [
        "!yolo task=segment mode=val model=runs/segment/train/weights/best.pt data=data.yaml"
      ]
    }
  ],
  "metadata": {
    "accelerator": "GPU",
    "colab": {
      "provenance": []
    },
    "gpuClass": "standard",
    "kernelspec": {
      "display_name": "Python 3",
      "name": "python3"
    },
    "language_info": {
      "name": "python",
      "version": "3.8.19"
    }
  },
  "nbformat": 4,
  "nbformat_minor": 0
}
