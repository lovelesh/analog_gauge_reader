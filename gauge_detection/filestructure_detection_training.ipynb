{
 "cells": [
  {
   "cell_type": "markdown",
   "id": "209da03b",
   "metadata": {},
   "source": [
    "# Yolov8 format\n",
    "Yolov8 wants following format: train, val and test folder. For each have a images folder and a labels folder. For each image in the images folder there is a .txt file with the same name and the corresponding labels. To get labels for segmentation look at JSON2YOLO github <https://github.com/ultralytics/JSON2YOLO>\n",
    "\n",
    "Change paths accordingly for individual use"
   ]
  },
  {
   "cell_type": "code",
   "execution_count": 32,
   "id": "81e532c5",
   "metadata": {},
   "outputs": [
    {
     "name": "stdout",
     "output_type": "stream",
     "text": [
      "c:\\Lovelesh\\Wireless Gauge Reader\\analog_gauge_reader\n",
      "c:\\Lovelesh\\Wireless Gauge Reader\\analog_gauge_reader\\gauge_detection\n"
     ]
    }
   ],
   "source": [
    "# Get all file names\n",
    "\n",
    "import os\n",
    "os.chdir('..')\n",
    "print(os.getcwd())\n",
    "os.chdir('gauge_detection')\n",
    "print(os.getcwd())\n",
    "image_directory = 'data/images'\n",
    "\n",
    "# get all image file names\n",
    "filenames = []\n",
    "for filename in os.listdir(image_directory):\n",
    "    filenames.append(filename[:-4]) # last 4 characters are '.jpg'"
   ]
  },
  {
   "cell_type": "code",
   "execution_count": 12,
   "id": "d8b44590",
   "metadata": {},
   "outputs": [],
   "source": [
    "# Originally data of gauge needle and gauge face seperated. With this we merge the labels.\n",
    "# 0 corresponds to gauge face, 1 to gauge needle\n",
    "\n",
    "def merge_labels(gauge_face_path, gauge_needle_path, dst_path):\n",
    "    for filename in filenames:\n",
    "        with open(dst_path + filename+'.txt', 'w') as outfile:\n",
    "            with open(gauge_face_path+filename+'.txt') as infile:\n",
    "                outfile.write(infile.read())\n",
    "            with open(gauge_needle_path+filename+'.txt') as infile:\n",
    "                for line in infile:\n",
    "                    line = '1' + line[1:]\n",
    "                    outfile.write(line)"
   ]
  },
  {
   "cell_type": "code",
   "execution_count": 14,
   "id": "83c9cb0f",
   "metadata": {},
   "outputs": [
    {
     "ename": "FileNotFoundError",
     "evalue": "[Errno 2] No such file or directory: 'data/gauge_needle/annotations/bbox_labels_yolo/002b612d-130.txt'",
     "output_type": "error",
     "traceback": [
      "\u001b[1;31m---------------------------------------------------------------------------\u001b[0m",
      "\u001b[1;31mFileNotFoundError\u001b[0m                         Traceback (most recent call last)",
      "Cell \u001b[1;32mIn[14], line 4\u001b[0m\n\u001b[0;32m      2\u001b[0m gauge_needle_path \u001b[38;5;241m=\u001b[39m \u001b[38;5;124m'\u001b[39m\u001b[38;5;124mdata/gauge_needle/annotations/bbox_labels_yolo/\u001b[39m\u001b[38;5;124m'\u001b[39m\n\u001b[0;32m      3\u001b[0m path_bbox_labels \u001b[38;5;241m=\u001b[39m \u001b[38;5;124m'\u001b[39m\u001b[38;5;124mdata/bbox_labels/\u001b[39m\u001b[38;5;124m'\u001b[39m\n\u001b[1;32m----> 4\u001b[0m \u001b[43mmerge_labels\u001b[49m\u001b[43m(\u001b[49m\u001b[43mgauge_face_path\u001b[49m\u001b[43m,\u001b[49m\u001b[43m \u001b[49m\u001b[43mgauge_needle_path\u001b[49m\u001b[43m,\u001b[49m\u001b[43m \u001b[49m\u001b[43mpath_bbox_labels\u001b[49m\u001b[43m)\u001b[49m\n\u001b[0;32m      5\u001b[0m \u001b[38;5;66;03m# gauge_face_path = 'data/gauge_face/annotations/segmentation_labels_yolo/'\u001b[39;00m\n\u001b[0;32m      6\u001b[0m \u001b[38;5;66;03m# gauge_needle_path = 'data/gauge_needle/annotations/segmentation_labels_yolo/'\u001b[39;00m\n\u001b[0;32m      7\u001b[0m \u001b[38;5;66;03m# path_segmentation_labels = 'data/segmentation_labels/'\u001b[39;00m\n\u001b[0;32m      8\u001b[0m \u001b[38;5;66;03m# merge_labels(gauge_face_path, gauge_needle_path, path_segmentation_labels)\u001b[39;00m\n",
      "Cell \u001b[1;32mIn[12], line 9\u001b[0m, in \u001b[0;36mmerge_labels\u001b[1;34m(gauge_face_path, gauge_needle_path, dst_path)\u001b[0m\n\u001b[0;32m      7\u001b[0m \u001b[38;5;28;01mwith\u001b[39;00m \u001b[38;5;28mopen\u001b[39m(gauge_face_path\u001b[38;5;241m+\u001b[39mfilename\u001b[38;5;241m+\u001b[39m\u001b[38;5;124m'\u001b[39m\u001b[38;5;124m.txt\u001b[39m\u001b[38;5;124m'\u001b[39m) \u001b[38;5;28;01mas\u001b[39;00m infile:\n\u001b[0;32m      8\u001b[0m     outfile\u001b[38;5;241m.\u001b[39mwrite(infile\u001b[38;5;241m.\u001b[39mread())\n\u001b[1;32m----> 9\u001b[0m \u001b[38;5;28;01mwith\u001b[39;00m \u001b[38;5;28;43mopen\u001b[39;49m\u001b[43m(\u001b[49m\u001b[43mgauge_needle_path\u001b[49m\u001b[38;5;241;43m+\u001b[39;49m\u001b[43mfilename\u001b[49m\u001b[38;5;241;43m+\u001b[39;49m\u001b[38;5;124;43m'\u001b[39;49m\u001b[38;5;124;43m.txt\u001b[39;49m\u001b[38;5;124;43m'\u001b[39;49m\u001b[43m)\u001b[49m \u001b[38;5;28;01mas\u001b[39;00m infile:\n\u001b[0;32m     10\u001b[0m     \u001b[38;5;28;01mfor\u001b[39;00m line \u001b[38;5;129;01min\u001b[39;00m infile:\n\u001b[0;32m     11\u001b[0m         line \u001b[38;5;241m=\u001b[39m \u001b[38;5;124m'\u001b[39m\u001b[38;5;124m1\u001b[39m\u001b[38;5;124m'\u001b[39m \u001b[38;5;241m+\u001b[39m line[\u001b[38;5;241m1\u001b[39m:]\n",
      "File \u001b[1;32mc:\\Users\\LoveleshPatel\\anaconda3\\envs\\gauge_eth\\lib\\site-packages\\IPython\\core\\interactiveshell.py:284\u001b[0m, in \u001b[0;36m_modified_open\u001b[1;34m(file, *args, **kwargs)\u001b[0m\n\u001b[0;32m    277\u001b[0m \u001b[38;5;28;01mif\u001b[39;00m file \u001b[38;5;129;01min\u001b[39;00m {\u001b[38;5;241m0\u001b[39m, \u001b[38;5;241m1\u001b[39m, \u001b[38;5;241m2\u001b[39m}:\n\u001b[0;32m    278\u001b[0m     \u001b[38;5;28;01mraise\u001b[39;00m \u001b[38;5;167;01mValueError\u001b[39;00m(\n\u001b[0;32m    279\u001b[0m         \u001b[38;5;124mf\u001b[39m\u001b[38;5;124m\"\u001b[39m\u001b[38;5;124mIPython won\u001b[39m\u001b[38;5;124m'\u001b[39m\u001b[38;5;124mt let you open fd=\u001b[39m\u001b[38;5;132;01m{\u001b[39;00mfile\u001b[38;5;132;01m}\u001b[39;00m\u001b[38;5;124m by default \u001b[39m\u001b[38;5;124m\"\u001b[39m\n\u001b[0;32m    280\u001b[0m         \u001b[38;5;124m\"\u001b[39m\u001b[38;5;124mas it is likely to crash IPython. If you know what you are doing, \u001b[39m\u001b[38;5;124m\"\u001b[39m\n\u001b[0;32m    281\u001b[0m         \u001b[38;5;124m\"\u001b[39m\u001b[38;5;124myou can use builtins\u001b[39m\u001b[38;5;124m'\u001b[39m\u001b[38;5;124m open.\u001b[39m\u001b[38;5;124m\"\u001b[39m\n\u001b[0;32m    282\u001b[0m     )\n\u001b[1;32m--> 284\u001b[0m \u001b[38;5;28;01mreturn\u001b[39;00m \u001b[43mio_open\u001b[49m\u001b[43m(\u001b[49m\u001b[43mfile\u001b[49m\u001b[43m,\u001b[49m\u001b[43m \u001b[49m\u001b[38;5;241;43m*\u001b[39;49m\u001b[43margs\u001b[49m\u001b[43m,\u001b[49m\u001b[43m \u001b[49m\u001b[38;5;241;43m*\u001b[39;49m\u001b[38;5;241;43m*\u001b[39;49m\u001b[43mkwargs\u001b[49m\u001b[43m)\u001b[49m\n",
      "\u001b[1;31mFileNotFoundError\u001b[0m: [Errno 2] No such file or directory: 'data/gauge_needle/annotations/bbox_labels_yolo/002b612d-130.txt'"
     ]
    }
   ],
   "source": [
    "gauge_face_path = 'data/gauge_face/annotations/bbox_labels_yolo/'\n",
    "gauge_needle_path = 'data/gauge_needle/annotations/bbox_labels_yolo/'\n",
    "path_bbox_labels = 'data/bbox_labels/'\n",
    "merge_labels(gauge_face_path, gauge_needle_path, path_bbox_labels)\n",
    "# gauge_face_path = 'data/gauge_face/annotations/segmentation_labels_yolo/'\n",
    "# gauge_needle_path = 'data/gauge_needle/annotations/segmentation_labels_yolo/'\n",
    "# path_segmentation_labels = 'data/segmentation_labels/'\n",
    "# merge_labels(gauge_face_path, gauge_needle_path, path_segmentation_labels)\n"
   ]
  },
  {
   "cell_type": "code",
   "execution_count": null,
   "id": "1b11c50b",
   "metadata": {
    "scrolled": true
   },
   "outputs": [],
   "source": [
    "# split images into train, val and test set\n",
    "\n",
    "import random\n",
    "\n",
    "def split_dataset(filenames):\n",
    "    # Assuming you have a list of filenames called \"all_filenames\"\n",
    "    random.shuffle(filenames)\n",
    "\n",
    "    # Calculate the size of each set\n",
    "    num_files = len(filenames)\n",
    "    num_train = int(0.8 * num_files)  # 80% for training\n",
    "    num_val = int(0.1 * num_files)   # 10% for validation\n",
    "    num_test = num_files - num_train - num_val  # remaining 10% for test\n",
    "\n",
    "    # Split the list into three sets\n",
    "    train_filenames = filenames[:num_train]\n",
    "    val_filenames = filenames[num_train:num_train+num_val]\n",
    "    test_filenames = filenames[num_train+num_val:]\n",
    "\n",
    "    # Print the sizes of each set\n",
    "    print(f\"Number of files in train set: {len(train_filenames)}\")\n",
    "    print(f\"Number of files in validation set: {len(val_filenames)}\")\n",
    "    print(f\"Number of files in test set: {len(test_filenames)}\")\n",
    "    \n",
    "    return train_filenames, val_filenames, test_filenames\n",
    "\n",
    "\n",
    "train_filenames, val_filenames, test_filenames = split_dataset(filenames)"
   ]
  },
  {
   "cell_type": "code",
   "execution_count": null,
   "id": "040cfa28",
   "metadata": {},
   "outputs": [],
   "source": [
    "# Create folder structure\n",
    "import os\n",
    "dir_base = ['detection']\n",
    "modes = ['train', 'val', 'test']\n",
    "for base in dir_base:\n",
    "    for mode in modes:\n",
    "        path = 'data/' + base + '/' + mode +'/images'\n",
    "        os.makedirs(path, exist_ok=True)\n",
    "        path = 'data/' + base + '/' + mode +'/labels'\n",
    "        os.makedirs(path, exist_ok=True)"
   ]
  },
  {
   "cell_type": "code",
   "execution_count": null,
   "id": "edb46dcc",
   "metadata": {},
   "outputs": [],
   "source": [
    "import shutil\n",
    "\n",
    "#copy image and label file of given file name to their corresponding folders in new folderstructure\n",
    "def copy_pair(src_dir, target_dir, file_name, mode):\n",
    "    src = image_directory + '/' + file_name + \".jpg\"\n",
    "    dst = target_dir + '/' + mode +'/images/' + file_name + \".jpg\"\n",
    "    shutil.copy2(src, dst)\n",
    "    src = src_dir + '/' + file_name + \".txt\"\n",
    "    dst = target_dir + '/' + mode +'/labels/' + file_name + \".txt\"\n",
    "    shutil.copy2(src, dst)\n",
    "\n",
    "#for each set copy all labels and images of this set to corresponding \n",
    "def copy_split(src_dir, target_dir):\n",
    "    for name in train_filenames:\n",
    "        copy_pair(src_dir, target_dir, name, 'train')\n",
    "    for name in val_filenames:\n",
    "        copy_pair(src_dir, target_dir, name, 'val')\n",
    "    for name in test_filenames:\n",
    "        copy_pair(src_dir, target_dir, name, 'test')\n",
    "\n",
    "# copy_split(path_segmentation_labels, 'data/segmentation')\n",
    "copy_split(path_bbox_labels, 'data/detection')\n"
   ]
  }
 ],
 "metadata": {
  "kernelspec": {
   "display_name": "Python 3",
   "language": "python",
   "name": "python3"
  },
  "language_info": {
   "codemirror_mode": {
    "name": "ipython",
    "version": 3
   },
   "file_extension": ".py",
   "mimetype": "text/x-python",
   "name": "python",
   "nbconvert_exporter": "python",
   "pygments_lexer": "ipython3",
   "version": "3.8.19"
  }
 },
 "nbformat": 4,
 "nbformat_minor": 5
}
