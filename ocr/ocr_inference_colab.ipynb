{
  "cells": [
    {
      "cell_type": "markdown",
      "metadata": {
        "id": "We6Tr7MockoZ"
      },
      "source": [
        "# Setup and Installation"
      ]
    },
    {
      "cell_type": "code",
      "execution_count": null,
      "metadata": {
        "id": "kvELnLgCjM8Y"
      },
      "outputs": [],
      "source": [
        "%pip install openmim\n",
        "!mim install mmengine\n",
        "!mim install 'mmcv>=2.0.0rc1'\n",
        "!mim install 'mmdet>=3.0.0rc0'\n",
        "!git clone https://github.com/open-mmlab/mmocr.git\n",
        "%cd mmocr\n",
        "!git checkout 1.x\n",
        "%pip install -e ."
      ]
    },
    {
      "cell_type": "code",
      "execution_count": null,
      "metadata": {
        "id": "MOSlDJoYlKM2"
      },
      "outputs": [],
      "source": [
        "# Check Pytorch installation\n",
        "import torch, torchvision\n",
        "print(torch.__version__, torch.cuda.is_available())\n",
        "\n",
        "# Check MMDetection installation\n",
        "import mmdet\n",
        "print(mmdet.__version__)\n",
        "\n",
        "# Check mmcv installation\n",
        "import mmcv\n",
        "from mmcv.ops import get_compiling_cuda_version, get_compiler_version\n",
        "print(mmcv.__version__)\n",
        "print(get_compiling_cuda_version())\n",
        "print(get_compiler_version())\n",
        "\n",
        "# Check mmocr installation\n",
        "import mmocr\n",
        "print(mmocr.__version__)"
      ]
    },
    {
      "cell_type": "markdown",
      "metadata": {
        "id": "G93FVD_icrzm"
      },
      "source": [
        "## Inference\n",
        "Test the inference on single file"
      ]
    },
    {
      "cell_type": "code",
      "execution_count": null,
      "metadata": {
        "id": "pCUc_HtTQSD6"
      },
      "outputs": [],
      "source": [
        "from mmocr.apis import MMOCRInferencer\n",
        "import os\n",
        "\n",
        "print(os.getcwd())\n",
        "img_directory = 'data/images/'\n",
        "img_path =  img_directory + '0a02bff0-63.jpg'\n",
        "o_path = 'data/output'\n",
        "print(img_path)\n",
        "# Load models into memory\n",
        "ocr = MMOCRInferencer(det='DB_r18', rec='ABINet')\n",
        "\n",
        "# Inference\n",
        "results = ocr(img_path, out_dir=o_path, save_pred=True, save_vis=True)"
      ]
    },
    {
      "cell_type": "markdown",
      "metadata": {},
      "source": [
        "## Run Inference for the entire Gauge folder"
      ]
    },
    {
      "cell_type": "code",
      "execution_count": null,
      "metadata": {
        "id": "1oZA3aOomsUv"
      },
      "outputs": [],
      "source": [
        "# import required module\n",
        "import os\n",
        "# assign directory\n",
        "img_directory = 'data/images/'\n",
        "# iterate over files in\n",
        "# that directory\n",
        "filenames = []\n",
        "for filename in os.listdir(img_directory):\n",
        "    filenames.append(img_directory + filename)\n",
        "\n",
        "print(filenames)"
      ]
    },
    {
      "cell_type": "code",
      "execution_count": null,
      "metadata": {
        "id": "YH00HP6d8Nys"
      },
      "outputs": [],
      "source": [
        "from tqdm import tqdm\n",
        "\n",
        "det_model = 'DB_r18'                   #'DBPP_r50'\n",
        "recog_model = 'ABINet'\n",
        "\n",
        "o_path = 'data/output' + det_model + \" - \" + recog_model\n",
        "\n",
        "# Load models into memory\n",
        "ocr = MMOCRInferencer(det=det_model, rec=recog_model)\n",
        "\n",
        "for filename in filenames[0:50]:\n",
        "   results = ocr(filename, out_dir=o_path, save_pred=True, save_vis=True)"
      ]
    },
    {
      "cell_type": "code",
      "execution_count": 20,
      "metadata": {
        "id": "xMCbb2HJ8uCR"
      },
      "outputs": [
        {
          "data": {
            "text/plain": [
              "1649"
            ]
          },
          "execution_count": 20,
          "metadata": {},
          "output_type": "execute_result"
        }
      ],
      "source": [
        "len(filenames)"
      ]
    },
    {
      "cell_type": "code",
      "execution_count": null,
      "metadata": {
        "id": "uw3gOlK8D56o"
      },
      "outputs": [],
      "source": [
        "det_model = 'PANet_IC15'\n",
        "recog_model = 'ABINet'\n",
        "\n",
        "o_path = '/content/drive/MyDrive/Analogue Gauge Reading/mmocr/' + det_model + \" - \" + recog_model"
      ]
    }
  ],
  "metadata": {
    "accelerator": "GPU",
    "colab": {
      "provenance": []
    },
    "gpuClass": "standard",
    "kernelspec": {
      "display_name": "Python 3",
      "name": "python3"
    },
    "language_info": {
      "codemirror_mode": {
        "name": "ipython",
        "version": 3
      },
      "file_extension": ".py",
      "mimetype": "text/x-python",
      "name": "python",
      "nbconvert_exporter": "python",
      "pygments_lexer": "ipython3",
      "version": "3.8.19"
    }
  },
  "nbformat": 4,
  "nbformat_minor": 0
}
